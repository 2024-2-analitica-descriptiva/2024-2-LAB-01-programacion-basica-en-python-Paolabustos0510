{
 "cells": [
  {
   "cell_type": "markdown",
   "metadata": {},
   "source": [
    "## Pregunta 01: Cargar Archivo"
   ]
  },
  {
   "cell_type": "code",
   "execution_count": 2,
   "metadata": {},
   "outputs": [],
   "source": [
    "import csv\n",
    "\n",
    "def cargar_BD (data):\n",
    "    datos = []\n",
    "    with open(data, 'r', encoding='utf-8') as file:\n",
    "        for linea in file:\n",
    "                datos.append(linea.strip().split('\\t'))\n",
    "    return datos\n"
   ]
  },
  {
   "cell_type": "code",
   "execution_count": 3,
   "metadata": {},
   "outputs": [],
   "source": [
    "data= \"../files/input/data.csv\""
   ]
  },
  {
   "cell_type": "code",
   "execution_count": 4,
   "metadata": {},
   "outputs": [
    {
     "data": {
      "text/plain": [
       "[['E', '1', '1999-02-28', 'b,g,f', 'jjj:12,bbb:3,ddd:9,ggg:8,hhh:2'],\n",
       " ['A', '2', '1999-10-28', 'a,f,c', 'ccc:2,ddd:0,aaa:3,hhh:9'],\n",
       " ['B', '5', '1998-05-02', 'f,e,a,c', 'ddd:2,ggg:5,ccc:6,jjj:12'],\n",
       " ['A', '3', '1999-08-28', 'a,b', 'hhh:9,iii:5,eee:7,bbb:1'],\n",
       " ['C', '6', '1999-12-01', 'f,g,d,a', 'iii:6,ddd:5,eee:4,jjj:12'],\n",
       " ['A', '7', '1998-07-28', 'c,d', 'bbb:2,hhh:0,ccc:4,fff:1,aaa:7'],\n",
       " ['A', '9', '1997-02-28', 'g,d,a', 'aaa:5,fff:8,ddd:2,iii:0,jjj:7,ccc:1'],\n",
       " ['B', '1', '1999-05-10', 'b,a', 'fff:3,hhh:1,ddd:2'],\n",
       " ['E', '2', '1997-04-12', 'd,e,a,f', 'eee:4,ccc:5,iii:9,fff:7,ggg:6,bbb:2'],\n",
       " ['B', '3', '1999-11-23', 'd,b,g,f', 'bbb:7,jjj:9,fff:5,iii:4,ggg:3,eee:3'],\n",
       " ['C', '7', '1998-01-17', 'd,c,f,b', 'hhh:6,eee:4,iii:0,fff:2,jjj:12'],\n",
       " ['C', '5', '1998-12-28', 'd,e,a,c', 'bbb:7,iii:6,ggg:9'],\n",
       " ['D', '3', '1999-10-15', 'g,e,f,b', 'bbb:9,aaa:3,ccc:6,fff:4,eee:2'],\n",
       " ['E', '8', '1998-11-01', 'c,f', 'aaa:8,ddd:5,jjj:12'],\n",
       " ['B', '9', '1999-08-12', 'd,b', 'ccc:7,jjj:6,fff:7,ddd:3,aaa:2'],\n",
       " ['D', '8', '1997-12-01', 'f,e', 'ccc:8,eee:6,bbb:9,ddd:3'],\n",
       " ['E', '3', '1997-07-28', 'e,b,f', 'bbb:6,iii:3,hhh:5,fff:4,ggg:9,ddd:2'],\n",
       " ['D', '5', '1998-08-12', 'g,a', 'hhh:4,jjj:5,ccc:9'],\n",
       " ['E', '8', '1999-08-24', 'e,c,f,a', 'ccc:1,iii:6,fff:9'],\n",
       " ['E', '9', '1998-01-23', 'e,a', 'bbb:9,aaa:3,fff:1'],\n",
       " ['E', '7', '1999-06-22', 'e,f', 'ddd:9,iii:2,aaa:4'],\n",
       " ['E', '3', '1999-04-24', 'c,b,g', 'ccc:5,fff:8,iii:7'],\n",
       " ['D', '5', '1999-06-25', 'c,f,a', 'eee:3,jjj:17,ddd:7'],\n",
       " ['A', '9', '1999-08-25', 'f,a,d', 'jjj:12,ggg:7,ccc:7,ddd:9,bbb:3'],\n",
       " ['E', '4', '1997-07-26', 'c,d', 'jjj:6,ccc:4,aaa:1,hhh:9,iii:7,ggg:8'],\n",
       " ['E', '6', '1997-09-24', 'e,d,c', 'fff:3,eee:6,iii:4,bbb:7,ddd:4,ccc:1'],\n",
       " ['A', '8', '1997-09-28', 'a,e,f', 'fff:0,ddd:5,ccc:4'],\n",
       " ['E', '5', '1999-06-22', 'c,a,g', 'ggg:6,hhh:3,ddd:9,ccc:10,jjj:7'],\n",
       " ['A', '6', '1999-07-29', 'f,e', 'hhh:6,jjj:13,eee:5,iii:7,ccc:3'],\n",
       " ['C', '0', '1999-08-22', 'f,c,a,g', 'eee:1,fff:4,aaa:2,ccc:7,ggg:10,ddd:6'],\n",
       " ['A', '9', '1998-04-26', 'b,f', 'ccc:6,aaa:9,eee:5,ddd:0,bbb:3'],\n",
       " ['D', '3', '1998-02-24', 'b,f', 'bbb:7,hhh:1,aaa:6,iii:4,fff:9,ddd:5'],\n",
       " ['E', '5', '1999-03-24', 'a,c', 'fff:3,ccc:1,ggg:3,eee:5'],\n",
       " ['B', '4', '1998-03-23', 'b,f,c', 'iii:7,ggg:3,ddd:0,jjj:8,hhh:5,ccc:1'],\n",
       " ['B', '6', '1999-04-21', 'f,a,e', 'hhh:6,ccc:3,jjj:9,bbb:8,ddd:7'],\n",
       " ['D', '7', '1999-02-29', 'a,f', 'aaa:1,fff:5,ddd:3'],\n",
       " ['B', '8', '1997-05-21', 'c,a', 'ddd:5,jjj:17,iii:7,ccc:10,bbb:4'],\n",
       " ['C', '9', '1997-07-22', 'c,a,e,f', 'eee:3,fff:2,hhh:6'],\n",
       " ['E', '1', '1999-09-28', 'e,d', 'fff:9,iii:2,eee:5'],\n",
       " ['E', '5', '1998-01-26', 'f,a,d', 'hhh:8,ggg:3,jjj:5']]"
      ]
     },
     "metadata": {},
     "output_type": "display_data"
    }
   ],
   "source": [
    "datos = cargar_BD(data)\n",
    "display(datos)"
   ]
  },
  {
   "cell_type": "code",
   "execution_count": 5,
   "metadata": {},
   "outputs": [],
   "source": [
    "   #Retorne la suma de la segunda columna"
   ]
  },
  {
   "cell_type": "code",
   "execution_count": 6,
   "metadata": {},
   "outputs": [
    {
     "data": {
      "text/plain": [
       "214"
      ]
     },
     "metadata": {},
     "output_type": "display_data"
    }
   ],
   "source": [
    "def pregunta_01(datos):\n",
    "    suma = 0\n",
    "    for fila in datos:\n",
    "        suma += int(fila[1])  # Convierte a entero el valor de la segunda columna y lo suma #No entiendo por qué se debe convertir a entero\n",
    "    return suma\n",
    "\n",
    "resultado_pregunta_01 = pregunta_01(datos)\n",
    "display (resultado_pregunta_01)"
   ]
  },
  {
   "cell_type": "markdown",
   "metadata": {},
   "source": [
    "## Pregunta 02: Tuplas (letra, cantidad)"
   ]
  },
  {
   "cell_type": "code",
   "execution_count": 7,
   "metadata": {},
   "outputs": [],
   "source": [
    "## Retorne la cantidad de registros por cada letra de la primera columna como\n",
    "## la lista de tuplas (letra, cantidad), ordendas alfabéticamente."
   ]
  },
  {
   "cell_type": "code",
   "execution_count": null,
   "metadata": {},
   "outputs": [
    {
     "data": {
      "text/plain": [
       "[('A', 8), ('B', 7), ('C', 5), ('D', 6), ('E', 14)]"
      ]
     },
     "metadata": {},
     "output_type": "display_data"
    }
   ],
   "source": [
    "def pregunta_02(datos):\n",
    "    conteo = {} \n",
    "    for fila in datos:\n",
    "        letra = fila[0] \n",
    "        if letra in conteo:\n",
    "            conteo[letra] += 1 \n",
    "        else:\n",
    "            conteo[letra] = 1\n",
    "\n",
    "    resultado = sorted(conteo.items()) #sorted genera una lista ordenada, no entiendo qué hace items\n",
    "    return resultado\n",
    "\n",
    "resultado_pregunta_02 = pregunta_02(datos)\n",
    "display (resultado_pregunta_02)"
   ]
  },
  {
   "cell_type": "markdown",
   "metadata": {},
   "source": [
    "## Pregunta 03: Suma Columna 2"
   ]
  },
  {
   "cell_type": "code",
   "execution_count": 9,
   "metadata": {},
   "outputs": [],
   "source": [
    "##Retorne la suma de la columna 2 por cada letra de la primera columna como\n",
    "##una lista de tuplas (letra, suma) ordendas alfabeticamente.\n"
   ]
  },
  {
   "cell_type": "code",
   "execution_count": null,
   "metadata": {},
   "outputs": [
    {
     "data": {
      "text/plain": [
       "[('A', 53), ('B', 36), ('C', 27), ('D', 31), ('E', 67)]"
      ]
     },
     "metadata": {},
     "output_type": "display_data"
    }
   ],
   "source": [
    "    \n",
    "def pregunta_03(datos):\n",
    "    suma_columna = {}\n",
    "    \n",
    "    for fila in datos:\n",
    "        letra = fila[0]  # Primera columna donde aparece la letra\n",
    "        valor = int(fila[1])  # Segunda columna convertida a entero (No entiendo por qué si ya es un entero)\n",
    "        \n",
    "        if letra in suma_columna:\n",
    "            suma_columna[letra] += valor\n",
    "        else:\n",
    "            suma_columna[letra] = valor\n",
    "    \n",
    "    # Convertir a lista de tuplas y ordenar alfabéticamente\n",
    "    resultado_suma_columna = sorted(suma_columna.items())#sorted genera una lista ordenada, no entiendo qué hace items\n",
    "    return resultado_suma_columna\n",
    "\n",
    "resultado_pregunta_03 = pregunta_03(datos)\n",
    "display(resultado_pregunta_03)\n",
    "\n",
    "\n"
   ]
  },
  {
   "cell_type": "markdown",
   "metadata": {},
   "source": [
    "## Pregunta 04: Registros por Mes"
   ]
  },
  {
   "cell_type": "code",
   "execution_count": 11,
   "metadata": {},
   "outputs": [],
   "source": [
    "#La columna 3 contiene una fecha en formato `YYYY-MM-DD`. Retorne la\n",
    "#cantidad de registros por cada mes, tal como se muestra a continuación.\n"
   ]
  },
  {
   "cell_type": "code",
   "execution_count": null,
   "metadata": {},
   "outputs": [
    {
     "data": {
      "text/plain": [
       "[('01', 3),\n",
       " ('02', 4),\n",
       " ('03', 2),\n",
       " ('04', 4),\n",
       " ('05', 3),\n",
       " ('06', 3),\n",
       " ('07', 5),\n",
       " ('08', 6),\n",
       " ('09', 3),\n",
       " ('10', 2),\n",
       " ('11', 2),\n",
       " ('12', 3)]"
      ]
     },
     "metadata": {},
     "output_type": "display_data"
    }
   ],
   "source": [
    "def pregunta_04(datos):\n",
    "    registro_mes = {}\n",
    "\n",
    "    for fila in datos:\n",
    "        fecha = fila[2]\n",
    "        mes = fecha.split(\"-\")[1]  # Extraer el mes (segundo componente de la fecha) ¿qué hace split(\"-\")?\n",
    "        \n",
    "        if mes in registro_mes:\n",
    "            registro_mes[mes] += 1\n",
    "        else:\n",
    "            registro_mes[mes] = 1\n",
    "    \n",
    "    # Convertir a lista de tuplas y ordenar por mes\n",
    "    resultado = sorted(registro_mes.items())# sorted genera una lista ordenada, no entiendo qué hace items\n",
    "    return resultado\n",
    "resultado_pregunta_04 = pregunta_04(datos)\n",
    "display(resultado_pregunta_04)\n",
    "\n",
    "\n"
   ]
  },
  {
   "cell_type": "markdown",
   "metadata": {},
   "source": [
    "## Pregunta 05: Valores Máx y Mín columna 2"
   ]
  },
  {
   "cell_type": "code",
   "execution_count": 13,
   "metadata": {},
   "outputs": [],
   "source": [
    "# Retorne una lista de tuplas con el valor maximo y minimo de la columna 2\n",
    "# por cada letra de la columa 1."
   ]
  },
  {
   "cell_type": "code",
   "execution_count": 14,
   "metadata": {},
   "outputs": [
    {
     "data": {
      "text/plain": [
       "[('A', 9, 2), ('B', 9, 1), ('C', 9, 0), ('D', 8, 3), ('E', 9, 1)]"
      ]
     },
     "metadata": {},
     "output_type": "display_data"
    }
   ],
   "source": [
    "def pregunta_05(datos):\n",
    "    valores_por_letra = {}\n",
    "    \n",
    "    for fila in datos:\n",
    "        letra = fila[0]  # Primera columna \n",
    "        valor = int(fila[1])  # Convertir a entero la segunda columna\n",
    "        \n",
    "        if letra in valores_por_letra:\n",
    "            # Actualizar máximo y mínimo\n",
    "            valores_por_letra[letra]['max'] = max(valores_por_letra[letra]['max'], valor) #No entiendo lo que hace\n",
    "            valores_por_letra[letra]['min'] = min(valores_por_letra[letra]['min'], valor)\n",
    "        else:\n",
    "            # Inicializar máximo y mínimo\n",
    "            valores_por_letra[letra] = {'max': valor, 'min': valor}\n",
    "    \n",
    "    # Convertir a lista de tuplas (letra, maximo, minimo) y ordenar alfabéticamente por letra\n",
    "    resultado = sorted((letra, valores['max'], valores['min']) for letra, valores in valores_por_letra.items())\n",
    "    return resultado\n",
    "resultado_pregunta_05 = pregunta_05(datos)\n",
    "display(resultado_pregunta_05)"
   ]
  },
  {
   "cell_type": "markdown",
   "metadata": {},
   "source": [
    "# Pregunta 06: Valores de la Clave"
   ]
  },
  {
   "cell_type": "code",
   "execution_count": 15,
   "metadata": {},
   "outputs": [
    {
     "data": {
      "text/plain": [
       "[('aaa', 1, 9),\n",
       " ('bbb', 1, 9),\n",
       " ('ccc', 1, 10),\n",
       " ('ddd', 0, 9),\n",
       " ('eee', 1, 7),\n",
       " ('fff', 0, 9),\n",
       " ('ggg', 3, 10),\n",
       " ('hhh', 0, 9),\n",
       " ('iii', 0, 9),\n",
       " ('jjj', 5, 17)]"
      ]
     },
     "metadata": {},
     "output_type": "display_data"
    }
   ],
   "source": [
    "def pregunta_06(datos):\n",
    "\n",
    "    valores_por_clave = {}\n",
    "    \n",
    "    for fila in datos:\n",
    "        # Obtener la columna 5 y dividirla por comas\n",
    "        elementos = fila[4].split(\",\")\n",
    "        for elemento in elementos:\n",
    "            clave, valor = elemento.split(\":\")  # Separar clave y valor\n",
    "            valor = int(valor)  # Convertir el valor a entero\n",
    "            \n",
    "            if clave in valores_por_clave:\n",
    "                # Actualizar máximo y mínimo\n",
    "                valores_por_clave[clave]['max'] = max(valores_por_clave[clave]['max'], valor)\n",
    "                valores_por_clave[clave]['min'] = min(valores_por_clave[clave]['min'], valor)\n",
    "            else:\n",
    "                # Inicializar máximo y mínimo\n",
    "                valores_por_clave[clave] = {'max': valor, 'min': valor}\n",
    "    \n",
    "    # Convertir a lista de tuplas (clave, minimo, maximo) y ordenar alfabéticamente por clave\n",
    "    resultado = sorted((clave, valores['min'], valores['max']) for clave, valores in valores_por_clave.items())\n",
    "    return resultado\n",
    "resultado_pregunta_06 = pregunta_06(datos)\n",
    "display(resultado_pregunta_06)\n"
   ]
  },
  {
   "cell_type": "markdown",
   "metadata": {},
   "source": [
    "## Pregunta 07"
   ]
  },
  {
   "cell_type": "code",
   "execution_count": 16,
   "metadata": {},
   "outputs": [],
   "source": [
    "#Retorne una lista de tuplas que asocien las columnas 0 y 1. Cada tupla\n",
    "#contiene un valor posible de la columna 2 y una lista con todas las letras\n",
    "#asociadas (columna 1) a dicho valor de la columna 2."
   ]
  },
  {
   "cell_type": "code",
   "execution_count": 17,
   "metadata": {},
   "outputs": [
    {
     "data": {
      "text/plain": [
       "[(0, ['C']),\n",
       " (1, ['E', 'B', 'E']),\n",
       " (2, ['A', 'E']),\n",
       " (3, ['A', 'B', 'D', 'E', 'E', 'D']),\n",
       " (4, ['E', 'B']),\n",
       " (5, ['B', 'C', 'D', 'D', 'E', 'E', 'E']),\n",
       " (6, ['C', 'E', 'A', 'B']),\n",
       " (7, ['A', 'C', 'E', 'D']),\n",
       " (8, ['E', 'D', 'E', 'A', 'B']),\n",
       " (9, ['A', 'B', 'E', 'A', 'A', 'C'])]"
      ]
     },
     "metadata": {},
     "output_type": "display_data"
    }
   ],
   "source": [
    "def pregunta_07(datos):\n",
    "\n",
    "    asociacion = {}\n",
    "    \n",
    "    for fila in datos:\n",
    "        valor_columna_2 = int(fila[1])  # Columna 2 convertida a entero\n",
    "        letra_columna_1 = fila[0]      # Columna 1 (letra)\n",
    "        \n",
    "        if valor_columna_2 not in asociacion:\n",
    "            asociacion[valor_columna_2] = []\n",
    "        \n",
    "        asociacion[valor_columna_2].append(letra_columna_1)\n",
    "    \n",
    "    # Convertir a lista de tuplas y ordenar por el valor de la columna 2\n",
    "    resultado = sorted((clave, letras) for clave, letras in asociacion.items())\n",
    "    return resultado\n",
    "\n",
    "resultado_pregunta_07 = pregunta_07(datos)\n",
    "display(resultado_pregunta_07)"
   ]
  },
  {
   "cell_type": "markdown",
   "metadata": {},
   "source": [
    "# Pregunta 08"
   ]
  },
  {
   "cell_type": "code",
   "execution_count": 18,
   "metadata": {},
   "outputs": [],
   "source": [
    "#Escriba el codigo que ejecute la accion solicitada en cada pregunta. Los\n",
    "#datos requeridos se encuentran en el archivo data.csv. En este laboratorio\n",
    "#solo puede utilizar las funciones y librerias basicas de python. No puede\n",
    "#utilizar pandas, numpy o scipy.\n"
   ]
  },
  {
   "cell_type": "code",
   "execution_count": 19,
   "metadata": {},
   "outputs": [
    {
     "data": {
      "text/plain": [
       "[(0, ['C']),\n",
       " (1, ['B', 'E']),\n",
       " (2, ['A', 'E']),\n",
       " (3, ['A', 'B', 'D', 'E']),\n",
       " (4, ['B', 'E']),\n",
       " (5, ['B', 'C', 'D', 'E']),\n",
       " (6, ['A', 'B', 'C', 'E']),\n",
       " (7, ['A', 'C', 'D', 'E']),\n",
       " (8, ['A', 'B', 'D', 'E']),\n",
       " (9, ['A', 'B', 'C', 'E'])]"
      ]
     },
     "metadata": {},
     "output_type": "display_data"
    }
   ],
   "source": [
    "def pregunta_08(datos):\n",
    "\n",
    "    asociacion = {}\n",
    "    \n",
    "    for fila in datos:\n",
    "        valor_columna_2 = int(fila[1])  # Columna 2 convertida a entero\n",
    "        letra_columna_1 = fila[0]      # Columna 1 (letra)\n",
    "        \n",
    "        if valor_columna_2 not in asociacion:\n",
    "            asociacion[valor_columna_2] = set()\n",
    "        \n",
    "        asociacion[valor_columna_2].add(letra_columna_1)\n",
    "    \n",
    "    # Convertir a lista de tuplas con las letras ordenadas\n",
    "    resultado = [(clave, sorted(letras)) for clave, letras in asociacion.items()]\n",
    "    resultado.sort()  # Ordenar por el valor de la columna 2\n",
    "    return resultado\n",
    "resultado_pregunta_08 = pregunta_08(datos)\n",
    "display(resultado_pregunta_08)"
   ]
  },
  {
   "cell_type": "markdown",
   "metadata": {},
   "source": [
    "# Pregunta 09"
   ]
  },
  {
   "cell_type": "code",
   "execution_count": 20,
   "metadata": {},
   "outputs": [],
   "source": [
    "#Retorne un diccionario que contenga la cantidad de registros en que\n",
    "#aparece cada clave de la columna 5.\n"
   ]
  },
  {
   "cell_type": "code",
   "execution_count": 21,
   "metadata": {},
   "outputs": [
    {
     "data": {
      "text/plain": [
       "{'aaa': 13,\n",
       " 'bbb': 16,\n",
       " 'ccc': 23,\n",
       " 'ddd': 23,\n",
       " 'eee': 15,\n",
       " 'fff': 20,\n",
       " 'ggg': 13,\n",
       " 'hhh': 16,\n",
       " 'iii': 18,\n",
       " 'jjj': 18}"
      ]
     },
     "metadata": {},
     "output_type": "display_data"
    }
   ],
   "source": [
    "def pregunta_09(datos):\n",
    "\n",
    "    clave_columna_5 = {}\n",
    "    \n",
    "    for fila in datos:\n",
    "    \n",
    "        elementos = fila[4].split(\",\")\n",
    "        for elemento in elementos:\n",
    "            clave, valor = elemento.split(\":\")  \n",
    "            valor = int(valor)  \n",
    "            \n",
    "            if clave in clave_columna_5:\n",
    "              clave_columna_5[clave] += 1\n",
    "             \n",
    "            else:\n",
    "              clave_columna_5[clave] = 1\n",
    "\n",
    "    resultado = dict(sorted(clave_columna_5.items()))   \n",
    "    return  resultado\n",
    "\n",
    "resultado_pregunta_09 = pregunta_09(datos)\n",
    "display(resultado_pregunta_09)\n"
   ]
  },
  {
   "cell_type": "markdown",
   "metadata": {},
   "source": [
    "# Pregunta 10"
   ]
  },
  {
   "cell_type": "code",
   "execution_count": 22,
   "metadata": {},
   "outputs": [],
   "source": [
    "#Retorne una lista de tuplas contengan por cada tupla, la letra de la\n",
    "#columna 1 y la cantidad de elementos de las columnas 4 y 5.\n"
   ]
  },
  {
   "cell_type": "code",
   "execution_count": 23,
   "metadata": {},
   "outputs": [
    {
     "data": {
      "text/plain": [
       "[('E', 3, 5),\n",
       " ('A', 3, 4),\n",
       " ('B', 4, 4),\n",
       " ('A', 2, 4),\n",
       " ('C', 4, 4),\n",
       " ('A', 2, 5),\n",
       " ('A', 3, 6),\n",
       " ('B', 2, 3),\n",
       " ('E', 4, 6),\n",
       " ('B', 4, 6),\n",
       " ('C', 4, 5),\n",
       " ('C', 4, 3),\n",
       " ('D', 4, 5),\n",
       " ('E', 2, 3),\n",
       " ('B', 2, 5),\n",
       " ('D', 2, 4),\n",
       " ('E', 3, 6),\n",
       " ('D', 2, 3),\n",
       " ('E', 4, 3),\n",
       " ('E', 2, 3),\n",
       " ('E', 2, 3),\n",
       " ('E', 3, 3),\n",
       " ('D', 3, 3),\n",
       " ('A', 3, 5),\n",
       " ('E', 2, 6),\n",
       " ('E', 3, 6),\n",
       " ('A', 3, 3),\n",
       " ('E', 3, 5),\n",
       " ('A', 2, 5),\n",
       " ('C', 4, 6),\n",
       " ('A', 2, 5),\n",
       " ('D', 2, 6),\n",
       " ('E', 2, 4),\n",
       " ('B', 3, 6),\n",
       " ('B', 3, 5),\n",
       " ('D', 2, 3),\n",
       " ('B', 2, 5),\n",
       " ('C', 4, 3),\n",
       " ('E', 2, 3),\n",
       " ('E', 3, 3)]"
      ]
     },
     "metadata": {},
     "output_type": "display_data"
    }
   ],
   "source": [
    "def pregunta_10(datos):\n",
    "    lista_tuplas = []\n",
    "    \n",
    "    for fila in datos:\n",
    "        letra = fila[0]  # Primera columna \n",
    "        valor_1 = (fila[3].split(\",\"))\n",
    "        cantidad_columna_4 = len(valor_1)\n",
    "        valor_2 = (fila[4].split(\",\"))\n",
    "        cantidad_columna_5 = len(valor_2)\n",
    "        lista_tuplas.append((letra, cantidad_columna_4, cantidad_columna_5))\n",
    "        \n",
    "    return lista_tuplas\n",
    "  \n",
    "resultado_pregunta_10 = pregunta_10(datos)\n",
    "display(resultado_pregunta_10)"
   ]
  },
  {
   "cell_type": "markdown",
   "metadata": {},
   "source": [
    "# Pregunta 11"
   ]
  },
  {
   "cell_type": "code",
   "execution_count": 24,
   "metadata": {},
   "outputs": [],
   "source": [
    "#Retorne un diccionario que contengan la suma de la columna 2 para cada\n",
    "#letra de la columna 4, ordenadas alfabeticamente."
   ]
  },
  {
   "cell_type": "code",
   "execution_count": 25,
   "metadata": {},
   "outputs": [
    {
     "data": {
      "text/plain": [
       "{'a': 122, 'b': 49, 'c': 91, 'd': 73, 'e': 86, 'f': 134, 'g': 35}"
      ]
     },
     "metadata": {},
     "output_type": "display_data"
    }
   ],
   "source": [
    "def pregunta_11(datos):\n",
    "    dic_suma = {}\n",
    "    for fila in datos:\n",
    "        valor_columna_2 = int(fila[1])\n",
    "        valor_columna_4 = fila[3].split(\",\")\n",
    "        for letra in valor_columna_4:\n",
    "            if letra in dic_suma:\n",
    "                dic_suma[letra]+= valor_columna_2\n",
    "            else:\n",
    "                dic_suma[letra] = valor_columna_2\n",
    "    return dict(sorted(dic_suma.items()))\n",
    "    \n",
    "resultado_pregunta_11 = pregunta_11(datos)\n",
    "display(resultado_pregunta_11)\n",
    "\n",
    "    \n",
    "\n"
   ]
  },
  {
   "cell_type": "markdown",
   "metadata": {},
   "source": [
    "# Pregunta 12"
   ]
  },
  {
   "cell_type": "code",
   "execution_count": 26,
   "metadata": {},
   "outputs": [],
   "source": [
    "#Genere un diccionario que contengan como clave la columna 1 y como valor\n",
    "#la suma de los valores de la columna 5 sobre todo el archivo.\n"
   ]
  },
  {
   "cell_type": "code",
   "execution_count": 27,
   "metadata": {},
   "outputs": [
    {
     "data": {
      "text/plain": [
       "{'A': 177, 'B': 187, 'C': 114, 'D': 136, 'E': 324}"
      ]
     },
     "metadata": {},
     "output_type": "display_data"
    }
   ],
   "source": [
    "def pregunta_12(datos):\n",
    "    dic_clave_columna_1 = {}\n",
    "    for fila in datos:\n",
    "        letra = fila[0]\n",
    "        valores_columna_5 = fila[4].split(\",\")\n",
    "        for x in valores_columna_5:\n",
    "            valor = int(x.split(\":\")[1])\n",
    "          \n",
    "\n",
    "            if letra in dic_clave_columna_1:\n",
    "                dic_clave_columna_1[letra]+= valor\n",
    "            else:\n",
    "                dic_clave_columna_1[letra] = valor\n",
    "\n",
    "    return dict(sorted(dic_clave_columna_1.items()))\n",
    "\n",
    "resultado_pregunta_12 = pregunta_12(datos)\n",
    "display(resultado_pregunta_12)\n",
    "       "
   ]
  }
 ],
 "metadata": {
  "kernelspec": {
   "display_name": ".venv",
   "language": "python",
   "name": "python3"
  },
  "language_info": {
   "codemirror_mode": {
    "name": "ipython",
    "version": 3
   },
   "file_extension": ".py",
   "mimetype": "text/x-python",
   "name": "python",
   "nbconvert_exporter": "python",
   "pygments_lexer": "ipython3",
   "version": "3.12.3"
  }
 },
 "nbformat": 4,
 "nbformat_minor": 2
}
