{
 "cells": [
  {
   "cell_type": "markdown",
   "metadata": {},
   "source": [
    "## Pregunta 01: Cargar Archivo"
   ]
  },
  {
   "cell_type": "code",
   "execution_count": 2,
   "metadata": {},
   "outputs": [],
   "source": [
    "import csv\n",
    "\n",
    "def cargar_BD (data):\n",
    "    datos = []\n",
    "    with open(data, 'r', encoding='utf-8') as file:\n",
    "        for linea in file:\n",
    "                datos.append(linea.strip().split('\\t'))\n",
    "    return datos\n"
   ]
  },
  {
   "cell_type": "code",
   "execution_count": 3,
   "metadata": {},
   "outputs": [],
   "source": [
    "data= \"../files/input/data.csv\""
   ]
  },
  {
   "cell_type": "code",
   "execution_count": null,
   "metadata": {},
   "outputs": [],
   "source": [
    "datos = cargar_BD(data)\n",
    "display(datos)"
   ]
  },
  {
   "cell_type": "code",
   "execution_count": 5,
   "metadata": {},
   "outputs": [],
   "source": [
    "   #Retorne la suma de la segunda columna"
   ]
  },
  {
   "cell_type": "code",
   "execution_count": null,
   "metadata": {},
   "outputs": [],
   "source": [
    "def pregunta_01(datos):\n",
    "    suma = 0\n",
    "    for fila in datos:\n",
    "        suma += int(fila[1])  # Convierte a entero el valor de la segunda columna y lo suma #No entiendo por qué se debe convertir a entero\n",
    "    return suma\n",
    "\n",
    "resultado_pregunta_01 = pregunta_01(datos)\n",
    "display (resultado_pregunta_01)"
   ]
  },
  {
   "cell_type": "markdown",
   "metadata": {},
   "source": [
    "## Pregunta 02: Tuplas (letra, cantidad)"
   ]
  },
  {
   "cell_type": "code",
   "execution_count": 7,
   "metadata": {},
   "outputs": [],
   "source": [
    "## Retorne la cantidad de registros por cada letra de la primera columna como\n",
    "## la lista de tuplas (letra, cantidad), ordendas alfabéticamente."
   ]
  },
  {
   "cell_type": "code",
   "execution_count": null,
   "metadata": {},
   "outputs": [],
   "source": [
    "def pregunta_02(datos):\n",
    "    conteo = {} \n",
    "    for fila in datos:\n",
    "        letra = fila[0] \n",
    "        if letra in conteo:\n",
    "            conteo[letra] += 1 \n",
    "        else:\n",
    "            conteo[letra] = 1\n",
    "\n",
    "    resultado = sorted(conteo.items()) #sorted genera una lista ordenada, no entiendo qué hace items\n",
    "    return resultado\n",
    "\n",
    "resultado_pregunta_02 = pregunta_02(datos)\n",
    "display (resultado_pregunta_02)"
   ]
  },
  {
   "cell_type": "markdown",
   "metadata": {},
   "source": [
    "## Pregunta 03: Suma Columna 2"
   ]
  },
  {
   "cell_type": "code",
   "execution_count": 9,
   "metadata": {},
   "outputs": [],
   "source": [
    "##Retorne la suma de la columna 2 por cada letra de la primera columna como\n",
    "##una lista de tuplas (letra, suma) ordendas alfabeticamente.\n"
   ]
  },
  {
   "cell_type": "code",
   "execution_count": null,
   "metadata": {},
   "outputs": [],
   "source": [
    "    \n",
    "def pregunta_03(datos):\n",
    "    suma_columna = {}\n",
    "    \n",
    "    for fila in datos:\n",
    "        letra = fila[0]  # Primera columna donde aparece la letra\n",
    "        valor = int(fila[1])  # Segunda columna convertida a entero (No entiendo por qué si ya es un entero)\n",
    "        \n",
    "        if letra in suma_columna:\n",
    "            suma_columna[letra] += valor\n",
    "        else:\n",
    "            suma_columna[letra] = valor\n",
    "    \n",
    "    # Convertir a lista de tuplas y ordenar alfabéticamente\n",
    "    resultado_suma_columna = sorted(suma_columna.items())#sorted genera una lista ordenada, no entiendo qué hace items\n",
    "    return resultado_suma_columna\n",
    "\n",
    "resultado_pregunta_03 = pregunta_03(datos)\n",
    "display(resultado_pregunta_03)\n",
    "\n",
    "\n"
   ]
  },
  {
   "cell_type": "markdown",
   "metadata": {},
   "source": [
    "## Pregunta 04: Registros por Mes"
   ]
  },
  {
   "cell_type": "code",
   "execution_count": 11,
   "metadata": {},
   "outputs": [],
   "source": [
    "#La columna 3 contiene una fecha en formato `YYYY-MM-DD`. Retorne la\n",
    "#cantidad de registros por cada mes, tal como se muestra a continuación.\n"
   ]
  },
  {
   "cell_type": "code",
   "execution_count": null,
   "metadata": {},
   "outputs": [],
   "source": [
    "def pregunta_04(datos):\n",
    "    registro_mes = {}\n",
    "\n",
    "    for fila in datos:\n",
    "        fecha = fila[2]\n",
    "        mes = fecha.split(\"-\")[1]  # Extraer el mes (segundo componente de la fecha) ¿qué hace split(\"-\")?\n",
    "        \n",
    "        if mes in registro_mes:\n",
    "            registro_mes[mes] += 1\n",
    "        else:\n",
    "            registro_mes[mes] = 1\n",
    "    \n",
    "    # Convertir a lista de tuplas y ordenar por mes\n",
    "    resultado = sorted(registro_mes.items())# sorted genera una lista ordenada, no entiendo qué hace items\n",
    "    return resultado\n",
    "resultado_pregunta_04 = pregunta_04(datos)\n",
    "display(resultado_pregunta_04)\n",
    "\n",
    "\n"
   ]
  },
  {
   "cell_type": "markdown",
   "metadata": {},
   "source": [
    "## Pregunta 05: Valores Máx y Mín columna 2"
   ]
  },
  {
   "cell_type": "code",
   "execution_count": 13,
   "metadata": {},
   "outputs": [],
   "source": [
    "# Retorne una lista de tuplas con el valor maximo y minimo de la columna 2\n",
    "# por cada letra de la columa 1."
   ]
  },
  {
   "cell_type": "code",
   "execution_count": null,
   "metadata": {},
   "outputs": [],
   "source": [
    "def pregunta_05(datos):\n",
    "    valores_por_letra = {}\n",
    "    \n",
    "    for fila in datos:\n",
    "        letra = fila[0]  # Primera columna \n",
    "        valor = int(fila[1])  # Convertir a entero la segunda columna\n",
    "        \n",
    "        if letra in valores_por_letra:\n",
    "            # Actualizar máximo y mínimo\n",
    "            valores_por_letra[letra]['max'] = max(valores_por_letra[letra]['max'], valor) #No entiendo lo que hace\n",
    "            valores_por_letra[letra]['min'] = min(valores_por_letra[letra]['min'], valor)\n",
    "        else:\n",
    "            # Inicializar máximo y mínimo\n",
    "            valores_por_letra[letra] = {'max': valor, 'min': valor}\n",
    "    \n",
    "    # Convertir a lista de tuplas (letra, maximo, minimo) y ordenar alfabéticamente por letra\n",
    "    resultado = sorted((letra, valores['max'], valores['min']) for letra, valores in valores_por_letra.items())\n",
    "    return resultado\n",
    "resultado_pregunta_05 = pregunta_05(datos)\n",
    "display(resultado_pregunta_05)"
   ]
  },
  {
   "cell_type": "markdown",
   "metadata": {},
   "source": [
    "# Pregunta 06: Valores de la Clave"
   ]
  },
  {
   "cell_type": "code",
   "execution_count": null,
   "metadata": {},
   "outputs": [],
   "source": [
    "def pregunta_06(datos):\n",
    "\n",
    "    valores_por_clave = {}\n",
    "    \n",
    "    for fila in datos:\n",
    "        # Obtener la columna 5 y dividirla por comas\n",
    "        elementos = fila[4].split(\",\")\n",
    "        for elemento in elementos:\n",
    "            clave, valor = elemento.split(\":\")  # Separar clave y valor\n",
    "            valor = int(valor)  # Convertir el valor a entero\n",
    "            \n",
    "            if clave in valores_por_clave:\n",
    "                # Actualizar máximo y mínimo\n",
    "                valores_por_clave[clave]['max'] = max(valores_por_clave[clave]['max'], valor)\n",
    "                valores_por_clave[clave]['min'] = min(valores_por_clave[clave]['min'], valor)\n",
    "            else:\n",
    "                # Inicializar máximo y mínimo\n",
    "                valores_por_clave[clave] = {'max': valor, 'min': valor}\n",
    "    \n",
    "    # Convertir a lista de tuplas (clave, minimo, maximo) y ordenar alfabéticamente por clave\n",
    "    resultado = sorted((clave, valores['min'], valores['max']) for clave, valores in valores_por_clave.items())\n",
    "    return resultado\n",
    "resultado_pregunta_06 = pregunta_06(datos)\n",
    "display(resultado_pregunta_06)\n"
   ]
  },
  {
   "cell_type": "markdown",
   "metadata": {},
   "source": [
    "## Pregunta 07"
   ]
  },
  {
   "cell_type": "code",
   "execution_count": 16,
   "metadata": {},
   "outputs": [],
   "source": [
    "#Retorne una lista de tuplas que asocien las columnas 0 y 1. Cada tupla\n",
    "#contiene un valor posible de la columna 2 y una lista con todas las letras\n",
    "#asociadas (columna 1) a dicho valor de la columna 2."
   ]
  },
  {
   "cell_type": "code",
   "execution_count": null,
   "metadata": {},
   "outputs": [],
   "source": [
    "def pregunta_07(datos):\n",
    "\n",
    "    asociacion = {}\n",
    "    \n",
    "    for fila in datos:\n",
    "        valor_columna_2 = int(fila[1])  # Columna 2 convertida a entero\n",
    "        letra_columna_1 = fila[0]      # Columna 1 (letra)\n",
    "        \n",
    "        if valor_columna_2 not in asociacion:\n",
    "            asociacion[valor_columna_2] = []\n",
    "        \n",
    "        asociacion[valor_columna_2].append(letra_columna_1)\n",
    "    \n",
    "    # Convertir a lista de tuplas y ordenar por el valor de la columna 2\n",
    "    resultado = sorted((clave, letras) for clave, letras in asociacion.items())\n",
    "    return resultado\n",
    "\n",
    "resultado_pregunta_07 = pregunta_07(datos)\n",
    "display(resultado_pregunta_07)"
   ]
  },
  {
   "cell_type": "markdown",
   "metadata": {},
   "source": [
    "# Pregunta 08"
   ]
  },
  {
   "cell_type": "code",
   "execution_count": 18,
   "metadata": {},
   "outputs": [],
   "source": [
    "#Escriba el codigo que ejecute la accion solicitada en cada pregunta. Los\n",
    "#datos requeridos se encuentran en el archivo data.csv. En este laboratorio\n",
    "#solo puede utilizar las funciones y librerias basicas de python. No puede\n",
    "#utilizar pandas, numpy o scipy.\n"
   ]
  },
  {
   "cell_type": "code",
   "execution_count": null,
   "metadata": {},
   "outputs": [],
   "source": [
    "def pregunta_08(datos):\n",
    "\n",
    "    asociacion = {}\n",
    "    \n",
    "    for fila in datos:\n",
    "        valor_columna_2 = int(fila[1])  # Columna 2 convertida a entero\n",
    "        letra_columna_1 = fila[0]      # Columna 1 (letra)\n",
    "        \n",
    "        if valor_columna_2 not in asociacion:\n",
    "            asociacion[valor_columna_2] = set()\n",
    "        \n",
    "        asociacion[valor_columna_2].add(letra_columna_1)\n",
    "    \n",
    "    # Convertir a lista de tuplas con las letras ordenadas\n",
    "    resultado = [(clave, sorted(letras)) for clave, letras in asociacion.items()]\n",
    "    resultado.sort()  # Ordenar por el valor de la columna 2\n",
    "    return resultado\n",
    "resultado_pregunta_08 = pregunta_08(datos)\n",
    "display(resultado_pregunta_08)"
   ]
  },
  {
   "cell_type": "markdown",
   "metadata": {},
   "source": [
    "# Pregunta 09"
   ]
  },
  {
   "cell_type": "code",
   "execution_count": 20,
   "metadata": {},
   "outputs": [],
   "source": [
    "#Retorne un diccionario que contenga la cantidad de registros en que\n",
    "#aparece cada clave de la columna 5.\n"
   ]
  },
  {
   "cell_type": "code",
   "execution_count": null,
   "metadata": {},
   "outputs": [],
   "source": [
    "def pregunta_09(datos):\n",
    "\n",
    "    clave_columna_5 = {}\n",
    "    \n",
    "    for fila in datos:\n",
    "    \n",
    "        elementos = fila[4].split(\",\")\n",
    "        for elemento in elementos:\n",
    "            clave, valor = elemento.split(\":\")  \n",
    "            valor = int(valor)  \n",
    "            \n",
    "            if clave in clave_columna_5:\n",
    "              clave_columna_5[clave] += 1\n",
    "             \n",
    "            else:\n",
    "              clave_columna_5[clave] = 1\n",
    "\n",
    "    resultado = dict(sorted(clave_columna_5.items()))   \n",
    "    return  resultado\n",
    "\n",
    "resultado_pregunta_09 = pregunta_09(datos)\n",
    "display(resultado_pregunta_09)\n"
   ]
  },
  {
   "cell_type": "markdown",
   "metadata": {},
   "source": [
    "# Pregunta 10"
   ]
  },
  {
   "cell_type": "code",
   "execution_count": 22,
   "metadata": {},
   "outputs": [],
   "source": [
    "#Retorne una lista de tuplas contengan por cada tupla, la letra de la\n",
    "#columna 1 y la cantidad de elementos de las columnas 4 y 5.\n"
   ]
  },
  {
   "cell_type": "code",
   "execution_count": null,
   "metadata": {},
   "outputs": [],
   "source": [
    "def pregunta_10(datos):\n",
    "    lista_tuplas = []\n",
    "    \n",
    "    for fila in datos:\n",
    "        letra = fila[0]  # Primera columna \n",
    "        valor_1 = (fila[3].split(\",\"))\n",
    "        cantidad_columna_4 = len(valor_1)\n",
    "        valor_2 = (fila[4].split(\",\"))\n",
    "        cantidad_columna_5 = len(valor_2)\n",
    "        lista_tuplas.append((letra, cantidad_columna_4, cantidad_columna_5))\n",
    "        \n",
    "    return lista_tuplas\n",
    "  \n",
    "resultado_pregunta_10 = pregunta_10(datos)\n",
    "display(resultado_pregunta_10)"
   ]
  },
  {
   "cell_type": "markdown",
   "metadata": {},
   "source": [
    "# Pregunta 11"
   ]
  },
  {
   "cell_type": "code",
   "execution_count": 24,
   "metadata": {},
   "outputs": [],
   "source": [
    "#Retorne un diccionario que contengan la suma de la columna 2 para cada\n",
    "#letra de la columna 4, ordenadas alfabeticamente."
   ]
  },
  {
   "cell_type": "code",
   "execution_count": null,
   "metadata": {},
   "outputs": [],
   "source": [
    "def pregunta_11(datos):\n",
    "    dic_suma = {}\n",
    "    for fila in datos:\n",
    "        valor_columna_2 = int(fila[1])\n",
    "        valor_columna_4 = fila[3].split(\",\")\n",
    "        for letra in valor_columna_4:\n",
    "            if letra in dic_suma:\n",
    "                dic_suma[letra]+= valor_columna_2\n",
    "            else:\n",
    "                dic_suma[letra] = valor_columna_2\n",
    "    return dict(sorted(dic_suma.items()))\n",
    "    \n",
    "resultado_pregunta_11 = pregunta_11(datos)\n",
    "display(resultado_pregunta_11)\n",
    "\n",
    "    \n",
    "\n"
   ]
  },
  {
   "cell_type": "markdown",
   "metadata": {},
   "source": [
    "# Pregunta 12"
   ]
  },
  {
   "cell_type": "code",
   "execution_count": 26,
   "metadata": {},
   "outputs": [],
   "source": [
    "#Genere un diccionario que contengan como clave la columna 1 y como valor\n",
    "#la suma de los valores de la columna 5 sobre todo el archivo.\n"
   ]
  },
  {
   "cell_type": "code",
   "execution_count": null,
   "metadata": {},
   "outputs": [],
   "source": [
    "def pregunta_12(datos):\n",
    "    dic_clave_columna_1 = {}\n",
    "    for fila in datos:\n",
    "        letra = fila[0]\n",
    "        valores_columna_5 = fila[4].split(\",\")\n",
    "        for x in valores_columna_5:\n",
    "            valor = int(x.split(\":\")[1])\n",
    "          \n",
    "\n",
    "            if letra in dic_clave_columna_1:\n",
    "                dic_clave_columna_1[letra]+= valor\n",
    "            else:\n",
    "                dic_clave_columna_1[letra] = valor\n",
    "\n",
    "    return dict(sorted(dic_clave_columna_1.items()))\n",
    "\n",
    "resultado_pregunta_12 = pregunta_12(datos)\n",
    "display(resultado_pregunta_12)\n",
    "       "
   ]
  },
  {
   "cell_type": "code",
   "execution_count": 4,
   "metadata": {},
   "outputs": [
    {
     "data": {
      "text/plain": [
       "214"
      ]
     },
     "execution_count": 4,
     "metadata": {},
     "output_type": "execute_result"
    }
   ],
   "source": [
    "data= \"../files/input/data.csv\"\n",
    "\n",
    "datos = []\n",
    "with open( data, 'r', encoding='utf-8') as file:\n",
    "    for linea in file:\n",
    "        datos.append(linea.strip().split('\\t'))\n",
    " \n",
    "def pregunta_01():\n",
    "    \"\"\"\n",
    "    Retorne la suma de la segunda columna.\n",
    "\n",
    "    Rta/\n",
    "    214\n",
    "\n",
    "    \"\"\"\n",
    "    suma = 0\n",
    "    for fila in datos:\n",
    "        suma += int(fila[1])  \n",
    "    return suma    \n",
    "pregunta_01()\n"
   ]
  }
 ],
 "metadata": {
  "kernelspec": {
   "display_name": ".venv",
   "language": "python",
   "name": "python3"
  },
  "language_info": {
   "codemirror_mode": {
    "name": "ipython",
    "version": 3
   },
   "file_extension": ".py",
   "mimetype": "text/x-python",
   "name": "python",
   "nbconvert_exporter": "python",
   "pygments_lexer": "ipython3",
   "version": "3.12.3"
  }
 },
 "nbformat": 4,
 "nbformat_minor": 2
}
