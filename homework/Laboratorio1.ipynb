{
 "cells": [
  {
   "cell_type": "markdown",
   "metadata": {},
   "source": [
    "## Laboratorio # 1"
   ]
  },
  {
   "cell_type": "markdown",
   "metadata": {},
   "source": [
    "### Tipos de estructuras de datos en Python"
   ]
  },
  {
   "cell_type": "markdown",
   "metadata": {},
   "source": [
    "**Listas**\n",
    "\n",
    "Descripción: Una lista es una colección ordenada, mutable y heterogénea (puede contener diferentes tipos de datos).\n",
    "\n",
    "Características:\n",
    "\n",
    "* Permiten duplicados.\n",
    "\n",
    "* Se accede a sus elementos mediante índices."
   ]
  },
  {
   "cell_type": "code",
   "execution_count": null,
   "metadata": {},
   "outputs": [],
   "source": [
    "# Crear una lista\n",
    "mi_lista = [1, 2, 3, \"Python\", True]\n",
    "\n",
    "# Acceso y modificación\n",
    "print(mi_lista[0])  # 1\n",
    "mi_lista[3] = \"Hola\"\n",
    "print(mi_lista)  # [1, 2, 3, \"Hola\", True]\n",
    "\n",
    "# Métodos útiles\n",
    "mi_lista.append(99)  # Agregar un elemento\n",
    "mi_lista.remove(2)   # Eliminar un elemento\n",
    "print(mi_lista)  # [1, 3, \"Hola\", True, 99]"
   ]
  },
  {
   "cell_type": "code",
   "execution_count": null,
   "metadata": {},
   "outputs": [],
   "source": [
    "mi_lista[-1]"
   ]
  },
  {
   "cell_type": "code",
   "execution_count": null,
   "metadata": {},
   "outputs": [],
   "source": [
    "print(mi_lista)"
   ]
  },
  {
   "cell_type": "markdown",
   "metadata": {},
   "source": [
    "**Tuplas (tuple)**\n",
    "\n",
    "Descripción: Una tupla es una colección ordenada e inmutable. Una vez creada, sus valores no pueden cambiar.\n",
    "\n",
    "Características:\n",
    "\n",
    "* Más rápida que las listas.\n",
    "* Se accede a sus elementos mediante índices."
   ]
  },
  {
   "cell_type": "code",
   "execution_count": null,
   "metadata": {},
   "outputs": [],
   "source": [
    "# Crear una tupla\n",
    "mi_tupla = (1, 2, 3, 4, 5, 6, \"Python\")\n",
    "\n",
    "# Acceso\n",
    "print(mi_tupla[5])  # 3"
   ]
  },
  {
   "cell_type": "code",
   "execution_count": null,
   "metadata": {},
   "outputs": [],
   "source": [
    "# Inmutabilidad\n",
    "#mi_tupla[1] = 4  # Esto genera un error"
   ]
  },
  {
   "cell_type": "code",
   "execution_count": null,
   "metadata": {},
   "outputs": [],
   "source": [
    "lista_de_tuplas = [(\"A\",4),(\"B\",7),(\"C\",4)]\n",
    "print(lista_de_tuplas)"
   ]
  },
  {
   "cell_type": "code",
   "execution_count": null,
   "metadata": {},
   "outputs": [],
   "source": [
    "lista_de_tuplas[1][1]"
   ]
  },
  {
   "cell_type": "markdown",
   "metadata": {},
   "source": [
    "**Conjuntos (set)**\n",
    "\n",
    "Descripción: Un conjunto es una colección desordenada de elementos únicos.\n",
    "\n",
    "Características:\n",
    "\n",
    "* No permite duplicados.\n",
    "\n",
    "* Los elementos no tienen un orden fijo.\n",
    "\n",
    "Caso de uso: Modelar conjuntos matemáticos, eliminar duplicados o realizar operaciones como uniones o intersecciones.\n"
   ]
  },
  {
   "cell_type": "code",
   "execution_count": null,
   "metadata": {},
   "outputs": [],
   "source": [
    "# Crear un conjunto\n",
    "mi_conjunto = {1, 2, 3, 4}\n",
    "\n",
    "# Operaciones de conjunto\n",
    "mi_conjunto.add(5)  # Agregar elemento\n",
    "mi_conjunto.remove(3)  # Eliminar elemento\n",
    "\n",
    "# Operaciones entre conjuntos\n",
    "otro_conjunto = {3, 4, 5, 6}\n",
    "union = mi_conjunto | otro_conjunto  # {1, 2, 4, 5, 6}\n",
    "interseccion = mi_conjunto & otro_conjunto  # {4, 5}\n",
    "\n",
    "print(union, interseccion)"
   ]
  },
  {
   "cell_type": "markdown",
   "metadata": {},
   "source": [
    "**Diccionarios (dict)**\n",
    "\n",
    "Descripción: Un diccionario almacena pares clave-valor, donde cada clave es única.\n",
    "\n",
    "Características:\n",
    "\n",
    "* Es mutable.\n",
    "\n",
    "* Permite acceso rápido mediante claves.\n"
   ]
  },
  {
   "cell_type": "code",
   "execution_count": null,
   "metadata": {},
   "outputs": [],
   "source": [
    "# Crear un diccionario\n",
    "mi_diccionario = {\"nombre\": \"Juan\", \"edad\": 25, \"profesion\": \"Ingeniero\"}\n",
    "\n",
    "# Acceso y modificación\n",
    "print(mi_diccionario[\"nombre\"])  # Juan\n",
    "mi_diccionario[\"edad\"] = 26  # Cambiar valor\n",
    "mi_diccionario[\"ciudad\"] = \"Bogotá\"  # Agregar nueva clave\n",
    "\n",
    "# Métodos útiles\n",
    "valores = mi_diccionario.values()  # Obtener valores\n",
    "claves = mi_diccionario.keys()  # Obtener claves\n",
    "print(valores, claves)"
   ]
  },
  {
   "cell_type": "code",
   "execution_count": 1,
   "metadata": {},
   "outputs": [],
   "source": [
    "mi_diccionario2 = {\"nombre\": \"Paola\", \"nota1\":5,\"nota2\":5}"
   ]
  },
  {
   "cell_type": "code",
   "execution_count": 2,
   "metadata": {},
   "outputs": [
    {
     "data": {
      "text/plain": [
       "dict_keys(['nombre', 'nota1', 'nota2'])"
      ]
     },
     "execution_count": 2,
     "metadata": {},
     "output_type": "execute_result"
    }
   ],
   "source": [
    "mi_diccionario2.keys()"
   ]
  },
  {
   "cell_type": "code",
   "execution_count": null,
   "metadata": {},
   "outputs": [],
   "source": [
    "mi_diccionario.items()"
   ]
  },
  {
   "cell_type": "code",
   "execution_count": null,
   "metadata": {},
   "outputs": [],
   "source": [
    "mi_diccionario[\"edad\"]"
   ]
  },
  {
   "cell_type": "markdown",
   "metadata": {},
   "source": [
    "**Conjuntos Inmutables (frozenset)**\n",
    "\n",
    "Descripción: Similar a un conjunto (set), pero inmutable (no se puede modificar después de su creación)."
   ]
  },
  {
   "cell_type": "code",
   "execution_count": null,
   "metadata": {},
   "outputs": [],
   "source": [
    "# Crear un conjunto inmutable\n",
    "mi_frozenset = frozenset([1, 2, 3, 4])\n",
    "# mi_frozenset.add(5)  # Esto generará un error\n",
    "\n",
    "print(mi_frozenset)"
   ]
  },
  {
   "cell_type": "markdown",
   "metadata": {},
   "source": [
    "### Desarrollo del Laboratorio"
   ]
  },
  {
   "cell_type": "markdown",
   "metadata": {},
   "source": [
    "#### Carga de datos"
   ]
  },
  {
   "cell_type": "code",
   "execution_count": null,
   "metadata": {},
   "outputs": [],
   "source": [
    "import csv\n",
    "\n",
    "def cargar_datos(file_path):\n",
    "    \"\"\"\n",
    "    Carga un archivo de texto estructurado como el compartido.\n",
    "    :param file_path: Ruta del archivo de datos.\n",
    "    :return: Lista de listas donde cada sublista representa una fila.\n",
    "    \"\"\"\n",
    "    datos = []\n",
    "    with open(file_path, 'r', encoding='utf-8') as file:\n",
    "        for linea in file:\n",
    "            # Dividir los datos por tabulación o un espacio\n",
    "            datos.append(linea.strip().split('\\t'))\n",
    "    return datos\n"
   ]
  },
  {
   "cell_type": "code",
   "execution_count": null,
   "metadata": {},
   "outputs": [],
   "source": [
    "file_path = \"C:\\Users\\Olga\\Documents\\GitHub\\2024-2-LAB-01-programacion-basica-en-python-Paolabustos0510\\files\\input\\data.csv\""
   ]
  },
  {
   "cell_type": "code",
   "execution_count": null,
   "metadata": {},
   "outputs": [],
   "source": [
    "# Uso de la función\n",
    "datos = cargar_datos(file_path)\n",
    "print(datos[:3])  # Imprime las primeras 3 filas para validar"
   ]
  },
  {
   "cell_type": "markdown",
   "metadata": {},
   "source": [
    "#### Pregunta 01"
   ]
  },
  {
   "cell_type": "code",
   "execution_count": null,
   "metadata": {},
   "outputs": [],
   "source": [
    "def pregunta01(datos):\n",
    "    \"\"\"\n",
    "    Retorne la suma de la segunda columna.\n",
    "\n",
    "    Rta/\n",
    "    214\n",
    "\n",
    "    \"\"\"\n",
    "    suma = 0\n",
    "    for fila in datos:\n",
    "        suma += int(fila[1])  # Convierte a entero el valor de la segunda columna y lo suma\n",
    "    return suma\n"
   ]
  },
  {
   "cell_type": "code",
   "execution_count": null,
   "metadata": {},
   "outputs": [],
   "source": [
    "resultado = pregunta01(datos)\n",
    "print(f\"La suma de la columna1 es: {resultado}\")"
   ]
  },
  {
   "cell_type": "markdown",
   "metadata": {},
   "source": [
    "#### Pregunta 02"
   ]
  },
  {
   "cell_type": "code",
   "execution_count": null,
   "metadata": {},
   "outputs": [],
   "source": [
    "def pregunta02(datos):\n",
    "    \"\"\"\n",
    "    Retorne la cantidad de registros por cada letra de la primera columna como\n",
    "    la lista de tuplas (letra, cantidad), ordendas alfabéticamente.\n",
    "\n",
    "    Rta/\n",
    "    [('A', 8), ('B', 7), ('C', 5), ('D', 6), ('E', 14)]\n",
    "\n",
    "    \"\"\"\n",
    "    conteo = {}\n",
    "    for fila in datos:\n",
    "        letra = fila[0]\n",
    "        if letra in conteo:\n",
    "            conteo[letra] += 1\n",
    "        else:\n",
    "            conteo[letra] = 1\n",
    "    \n",
    "    # Convertir a lista de tuplas y ordenar alfabéticamente\n",
    "    resultado = sorted(conteo.items())\n",
    "    return resultado\n",
    "\n"
   ]
  },
  {
   "cell_type": "code",
   "execution_count": null,
   "metadata": {},
   "outputs": [],
   "source": [
    "# Uso de la función\n",
    "letra_conteo = pregunta02(datos)  # La primera columna tiene índice 0\n",
    "print(letra_conteo)"
   ]
  },
  {
   "cell_type": "markdown",
   "metadata": {},
   "source": [
    "#### Pregunta 03"
   ]
  },
  {
   "cell_type": "code",
   "execution_count": null,
   "metadata": {},
   "outputs": [],
   "source": [
    "def pregunta_03(datos):\n",
    "    \"\"\"\n",
    "    Retorne la suma de la columna 2 por cada letra de la primera columna como\n",
    "    una lista de tuplas (letra, suma) ordendas alfabeticamente.\n",
    "\n",
    "    Rta/\n",
    "    [('A', 53), ('B', 36), ('C', 27), ('D', 31), ('E', 67)]\n",
    "\n",
    "    \"\"\"\n",
    "    suma_por_letra = {}\n",
    "    \n",
    "    for fila in datos:\n",
    "        letra = fila[0]  # Primera columna\n",
    "        valor = int(fila[1])  # Segunda columna convertida a entero\n",
    "        \n",
    "        if letra in suma_por_letra:\n",
    "            suma_por_letra[letra] += valor\n",
    "        else:\n",
    "            suma_por_letra[letra] = valor\n",
    "    \n",
    "    # Convertir a lista de tuplas y ordenar alfabéticamente\n",
    "    resultado = sorted(suma_por_letra.items())\n",
    "    return resultado\n",
    "\n"
   ]
  },
  {
   "cell_type": "code",
   "execution_count": null,
   "metadata": {},
   "outputs": [],
   "source": [
    "#uso de la función\n",
    "resultado = pregunta_03(datos)\n",
    "print(resultado)"
   ]
  },
  {
   "cell_type": "markdown",
   "metadata": {},
   "source": [
    "#### Pregunta 04"
   ]
  },
  {
   "cell_type": "code",
   "execution_count": null,
   "metadata": {},
   "outputs": [],
   "source": [
    "def pregunta_04(datos):\n",
    "    \"\"\"\n",
    "    La columna 3 contiene una fecha en formato `YYYY-MM-DD`. Retorne la\n",
    "    cantidad de registros por cada mes, tal como se muestra a continuación.\n",
    "\n",
    "    Rta/\n",
    "    [('01', 3),\n",
    "     ('02', 4),\n",
    "     ('03', 2),\n",
    "     ('04', 4),\n",
    "     ('05', 3),\n",
    "     ('06', 3),\n",
    "     ('07', 5),\n",
    "     ('08', 6),\n",
    "     ('09', 3),\n",
    "     ('10', 2),\n",
    "     ('11', 2),\n",
    "     ('12', 3)]\n",
    "\n",
    "    \"\"\"\n",
    "    registros_por_mes = {}\n",
    "    \n",
    "    for fila in datos:\n",
    "        fecha = fila[2]  # Tercera columna\n",
    "        mes = fecha.split(\"-\")[1]  # Extraer el mes (segundo componente de la fecha)\n",
    "        \n",
    "        if mes in registros_por_mes:\n",
    "            registros_por_mes[mes] += 1\n",
    "        else:\n",
    "            registros_por_mes[mes] = 1\n",
    "    \n",
    "    # Convertir a lista de tuplas y ordenar por mes\n",
    "    resultado = sorted(registros_por_mes.items())\n",
    "    return resultado\n",
    "\n"
   ]
  },
  {
   "cell_type": "code",
   "execution_count": null,
   "metadata": {},
   "outputs": [],
   "source": [
    "resultado = pregunta_04(datos)\n",
    "print(resultado)"
   ]
  },
  {
   "cell_type": "markdown",
   "metadata": {},
   "source": [
    "#### Pregunta 05"
   ]
  },
  {
   "cell_type": "code",
   "execution_count": null,
   "metadata": {},
   "outputs": [],
   "source": [
    "def pregunta_05(datos):\n",
    "    \"\"\"\n",
    "    Retorne una lista de tuplas con el valor maximo y minimo de la columna 2\n",
    "    por cada letra de la columa 1.\n",
    "\n",
    "    Rta/\n",
    "    [('A', 9, 2), ('B', 9, 1), ('C', 9, 0), ('D', 8, 3), ('E', 9, 1)]\n",
    "\n",
    "    \"\"\"\n",
    "    valores_por_letra = {}\n",
    "    \n",
    "    for fila in datos:\n",
    "        letra = fila[0]  # Primera columna\n",
    "        valor = int(fila[1])  # Convertir a entero la segunda columna\n",
    "        \n",
    "        if letra in valores_por_letra:\n",
    "            # Actualizar máximo y mínimo\n",
    "            valores_por_letra[letra]['max'] = max(valores_por_letra[letra]['max'], valor)\n",
    "            valores_por_letra[letra]['min'] = min(valores_por_letra[letra]['min'], valor)\n",
    "        else:\n",
    "            # Inicializar máximo y mínimo\n",
    "            valores_por_letra[letra] = {'max': valor, 'min': valor}\n",
    "    \n",
    "    # Convertir a lista de tuplas (letra, maximo, minimo) y ordenar alfabéticamente por letra\n",
    "    resultado = sorted((letra, valores['max'], valores['min']) for letra, valores in valores_por_letra.items())\n",
    "    return resultado\n",
    "\n"
   ]
  },
  {
   "cell_type": "code",
   "execution_count": null,
   "metadata": {},
   "outputs": [],
   "source": [
    "\n",
    "resultado = pregunta_05(datos)\n",
    "print(resultado)"
   ]
  },
  {
   "cell_type": "markdown",
   "metadata": {},
   "source": [
    "#### Pregunta 06"
   ]
  },
  {
   "cell_type": "code",
   "execution_count": null,
   "metadata": {},
   "outputs": [],
   "source": [
    "def pregunta_06(datos):\n",
    "    \"\"\"\n",
    "    La columna 5 codifica un diccionario donde cada cadena de tres letras\n",
    "    corresponde a una clave y el valor despues del caracter `:` corresponde al\n",
    "    valor asociado a la clave. Por cada clave, obtenga el valor asociado mas\n",
    "    pequeño y el valor asociado mas grande computados sobre todo el archivo.\n",
    "\n",
    "    Rta/\n",
    "    [('aaa', 1, 9),\n",
    "     ('bbb', 1, 9),\n",
    "     ('ccc', 1, 10),\n",
    "     ('ddd', 0, 9),\n",
    "     ('eee', 1, 7),\n",
    "     ('fff', 0, 9),\n",
    "     ('ggg', 3, 10),\n",
    "     ('hhh', 0, 9),\n",
    "     ('iii', 0, 9),\n",
    "     ('jjj', 5, 17)]\n",
    "\n",
    "    \"\"\"\n",
    "    valores_por_clave = {}\n",
    "    \n",
    "    for fila in datos:\n",
    "        # Obtener la columna 5 y dividirla por comas\n",
    "        elementos = fila[4].split(\",\")\n",
    "        for elemento in elementos:\n",
    "            clave, valor = elemento.split(\":\")  # Separar clave y valor\n",
    "            valor = int(valor)  # Convertir el valor a entero\n",
    "            \n",
    "            if clave in valores_por_clave:\n",
    "                # Actualizar máximo y mínimo\n",
    "                valores_por_clave[clave]['max'] = max(valores_por_clave[clave]['max'], valor)\n",
    "                valores_por_clave[clave]['min'] = min(valores_por_clave[clave]['min'], valor)\n",
    "            else:\n",
    "                # Inicializar máximo y mínimo\n",
    "                valores_por_clave[clave] = {'max': valor, 'min': valor}\n",
    "    \n",
    "    # Convertir a lista de tuplas (clave, minimo, maximo) y ordenar alfabéticamente por clave\n",
    "    resultado = sorted((clave, valores['min'], valores['max']) for clave, valores in valores_por_clave.items())\n",
    "    return resultado\n",
    "\n"
   ]
  },
  {
   "cell_type": "code",
   "execution_count": null,
   "metadata": {},
   "outputs": [],
   "source": [
    "resultado = pregunta_06(datos)\n",
    "print(resultado)"
   ]
  },
  {
   "cell_type": "markdown",
   "metadata": {},
   "source": [
    "#### Pregunta 07"
   ]
  },
  {
   "cell_type": "code",
   "execution_count": null,
   "metadata": {},
   "outputs": [],
   "source": [
    "def pregunta_07(datos):\n",
    "    \"\"\"\n",
    "    Retorne una lista de tuplas que asocien las columnas 0 y 1. Cada tupla\n",
    "    contiene un valor posible de la columna 2 y una lista con todas las letras\n",
    "    asociadas (columna 1) a dicho valor de la columna 2.\n",
    "\n",
    "    Rta/\n",
    "    [(0, ['C']),\n",
    "     (1, ['E', 'B', 'E']),\n",
    "     (2, ['A', 'E']),\n",
    "     (3, ['A', 'B', 'D', 'E', 'E', 'D']),\n",
    "     (4, ['E', 'B']),\n",
    "     (5, ['B', 'C', 'D', 'D', 'E', 'E', 'E']),\n",
    "     (6, ['C', 'E', 'A', 'B']),\n",
    "     (7, ['A', 'C', 'E', 'D']),\n",
    "     (8, ['E', 'D', 'E', 'A', 'B']),\n",
    "     (9, ['A', 'B', 'E', 'A', 'A', 'C'])]\n",
    "\n",
    "    \"\"\"\n",
    "    asociacion = {}\n",
    "    \n",
    "    for fila in datos:\n",
    "        valor_columna_2 = int(fila[1])  # Columna 2 convertida a entero\n",
    "        letra_columna_1 = fila[0]      # Columna 1 (letra)\n",
    "        \n",
    "        if valor_columna_2 not in asociacion:\n",
    "            asociacion[valor_columna_2] = []\n",
    "        \n",
    "        asociacion[valor_columna_2].append(letra_columna_1)\n",
    "    \n",
    "    # Convertir a lista de tuplas y ordenar por el valor de la columna 2\n",
    "    resultado = sorted((clave, letras) for clave, letras in asociacion.items())\n",
    "    return resultado\n"
   ]
  },
  {
   "cell_type": "code",
   "execution_count": null,
   "metadata": {},
   "outputs": [],
   "source": [
    "resultado = pregunta_07(datos)\n",
    "print(resultado)"
   ]
  },
  {
   "cell_type": "markdown",
   "metadata": {},
   "source": [
    "#### Pregunta 08"
   ]
  },
  {
   "cell_type": "code",
   "execution_count": null,
   "metadata": {},
   "outputs": [],
   "source": [
    "def pregunta_08(datos):\n",
    "    \"\"\"\n",
    "    Genere una lista de tuplas, donde el primer elemento de cada tupla\n",
    "    contiene  el valor de la segunda columna; la segunda parte de la tupla\n",
    "    es una lista con las letras (ordenadas y sin repetir letra) de la\n",
    "    primera  columna que aparecen asociadas a dicho valor de la segunda\n",
    "    columna.\n",
    "\n",
    "    Rta/\n",
    "    [(0, ['C']),\n",
    "     (1, ['B', 'E']),\n",
    "     (2, ['A', 'E']),\n",
    "     (3, ['A', 'B', 'D', 'E']),\n",
    "     (4, ['B', 'E']),\n",
    "     (5, ['B', 'C', 'D', 'E']),\n",
    "     (6, ['A', 'B', 'C', 'E']),\n",
    "     (7, ['A', 'C', 'D', 'E']),\n",
    "     (8, ['A', 'B', 'D', 'E']),\n",
    "     (9, ['A', 'B', 'C', 'E'])]\n",
    "\n",
    "    \"\"\"\n",
    "    asociacion = {}\n",
    "    \n",
    "    for fila in datos:\n",
    "        valor_columna_2 = int(fila[1])  # Columna 2 convertida a entero\n",
    "        letra_columna_1 = fila[0]      # Columna 1 (letra)\n",
    "        \n",
    "        if valor_columna_2 not in asociacion:\n",
    "            asociacion[valor_columna_2] = set()\n",
    "        \n",
    "        asociacion[valor_columna_2].add(letra_columna_1)\n",
    "    \n",
    "    # Convertir a lista de tuplas con las letras ordenadas\n",
    "    resultado = [(clave, sorted(letras)) for clave, letras in asociacion.items()]\n",
    "    resultado.sort()  # Ordenar por el valor de la columna 2\n",
    "    return resultado\n",
    "\n"
   ]
  },
  {
   "cell_type": "code",
   "execution_count": null,
   "metadata": {},
   "outputs": [],
   "source": [
    "resultado = pregunta_08(datos)\n",
    "print(resultado)"
   ]
  },
  {
   "cell_type": "markdown",
   "metadata": {},
   "source": [
    "#### Pregunta 09"
   ]
  },
  {
   "cell_type": "code",
   "execution_count": null,
   "metadata": {},
   "outputs": [],
   "source": []
  },
  {
   "cell_type": "code",
   "execution_count": null,
   "metadata": {},
   "outputs": [],
   "source": []
  },
  {
   "cell_type": "markdown",
   "metadata": {},
   "source": [
    "#### Pregunta 10"
   ]
  },
  {
   "cell_type": "code",
   "execution_count": null,
   "metadata": {},
   "outputs": [],
   "source": []
  },
  {
   "cell_type": "code",
   "execution_count": null,
   "metadata": {},
   "outputs": [],
   "source": []
  },
  {
   "cell_type": "markdown",
   "metadata": {},
   "source": [
    "#### Pregunta 11"
   ]
  },
  {
   "cell_type": "code",
   "execution_count": null,
   "metadata": {},
   "outputs": [],
   "source": []
  },
  {
   "cell_type": "code",
   "execution_count": null,
   "metadata": {},
   "outputs": [],
   "source": []
  },
  {
   "cell_type": "markdown",
   "metadata": {},
   "source": [
    "#### Pregunta 12"
   ]
  },
  {
   "cell_type": "code",
   "execution_count": null,
   "metadata": {},
   "outputs": [],
   "source": []
  },
  {
   "cell_type": "code",
   "execution_count": null,
   "metadata": {},
   "outputs": [],
   "source": []
  }
 ],
 "metadata": {
  "kernelspec": {
   "display_name": ".venv",
   "language": "python",
   "name": "python3"
  },
  "language_info": {
   "codemirror_mode": {
    "name": "ipython",
    "version": 3
   },
   "file_extension": ".py",
   "mimetype": "text/x-python",
   "name": "python",
   "nbconvert_exporter": "python",
   "pygments_lexer": "ipython3",
   "version": "3.12.3"
  }
 },
 "nbformat": 4,
 "nbformat_minor": 2
}
